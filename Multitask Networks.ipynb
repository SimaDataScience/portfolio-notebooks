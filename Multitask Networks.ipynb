{
 "cells": [
  {
   "cell_type": "markdown",
   "id": "bb8bef8e",
   "metadata": {},
   "source": [
    "# Multitask Networks\n",
    "When we need to make two predictions from the same data, is it better to train two separate networks or to train one multitask network to make these predictions? My initial thought was that it would be best to train separate models, since this allows us to have fewer parameters to train for each task. However, training a multitask network can significantly improve generalization. You can read a paper by Caruana's 1993 paper [here](https://link.springer.com/article/10.1023/A:1007379606734) for more on the subject.\n",
    "\n",
    "Let's see an example of multitask networks in action using a modified version of one of my projects. The project required making two predictions from the same dataset: classify the binary label \"type\" and predict the continuous variable \"quality\". For this example we'll use root mean squared error to evaluate our regression predictions, and we'll use binary cross-entropy to evaluate our class predictions.\n",
    "\n",
    "Keep in mind that our scores probably won't be great here. The data has been significantly transformed and jittered for privacy, so the features have likely lost a lot of predictive power. Cross-entropy will be particularly harmed, since over 50% of positive labels are unavailable. Because of this we will only look at our cross-entropy score and will not investigate the classification results closely.\n",
    "\n",
    "Let's complete both tasks individually with single task networks, and then again with a multitask network. Then we'll compare the results of the models on both our validation and test sets. When we do so, we see exactly the results suggested by Caruana.\n",
    "\n",
    " "
   ]
  },
  {
   "cell_type": "code",
   "execution_count": 1,
   "id": "0d77fde8",
   "metadata": {},
   "outputs": [
    {
     "name": "stdout",
     "output_type": "stream",
     "text": [
      "Init Plugin\n",
      "Init Graph Optimizer\n",
      "Init Kernel\n"
     ]
    }
   ],
   "source": [
    "# Import modules.\n",
    "import matplotlib.pyplot as plt\n",
    "import numpy as np\n",
    "import pandas as pd\n",
    "import tensorflow as tf\n",
    "\n",
    "from sklearn.model_selection import train_test_split\n",
    "from sklearn.metrics import mean_squared_error, log_loss\n"
   ]
  },
  {
   "cell_type": "code",
   "execution_count": 2,
   "id": "29c8dc96",
   "metadata": {},
   "outputs": [],
   "source": [
    "# Create global variables.\n",
    "PATH = '/Users/justinsima/dir/projects/portfolio/multitask/'\n",
    "DATA_PATH = PATH + 'data/data.csv'\n"
   ]
  },
  {
   "cell_type": "code",
   "execution_count": 3,
   "id": "ba7dd5df",
   "metadata": {},
   "outputs": [],
   "source": [
    "# Load data.\n",
    "df = pd.read_csv(DATA_PATH)\n",
    "\n",
    "# Separate into features and labels.\n",
    "X = df.drop(columns=['type', 'quality'])\n",
    "Y = df[['type', 'quality']]\n"
   ]
  },
  {
   "cell_type": "code",
   "execution_count": 4,
   "id": "66263445",
   "metadata": {},
   "outputs": [],
   "source": [
    "# Create train, validation, and test splits.\n",
    "X_temp, X_test, Y_temp, Y_test = train_test_split(X, Y, test_size=0.05, random_state=49)\n",
    "X_train, X_val, Y_train, Y_val = train_test_split(X_temp, Y_temp, test_size=0.15, random_state=49)\n"
   ]
  },
  {
   "cell_type": "code",
   "execution_count": 5,
   "id": "fdd969ee",
   "metadata": {},
   "outputs": [],
   "source": [
    "# Price model constructor.\n",
    "def build_quality_model():\n",
    "     # Input layer.\n",
    "    input_layer = tf.keras.layers.Input(shape=(len(X.columns),))\n",
    "    \n",
    "    # Single output layer.\n",
    "    output_layer = tf.keras.layers.Dense(\n",
    "        1,\n",
    "        name='quality_output',\n",
    "        kernel_regularizer=tf.keras.regularizers.l1(0.01),\n",
    "        activation='linear'\n",
    "    )(input_layer)\n",
    "    \n",
    "    # Define model.\n",
    "    model = tf.keras.Model(inputs=input_layer, outputs=output_layer, name='model_quality')\n",
    "    \n",
    "    # Compile model.\n",
    "    optimizer = tf.keras.optimizers.Adam(0.001)\n",
    "    model.compile(\n",
    "        optimizer=optimizer,\n",
    "        loss='mse',\n",
    "        metrics=tf.keras.metrics.RootMeanSquaredError()\n",
    "    )\n",
    "    \n",
    "    # Display model architecture summary.\n",
    "    model.summary()\n",
    "\n",
    "    return model\n",
    "\n",
    "# Quality model constructor.\n",
    "def build_type_model():\n",
    "    # Input layer.\n",
    "    input_layer = tf.keras.layers.Input(shape=(len(X.columns),))\n",
    "    \n",
    "    # Hidden dense layers.\n",
    "    dense_1 = tf.keras.layers.Dense(9, activation='relu')(input_layer)\n",
    "    dense_2 = tf.keras.layers.Dense(6, activation='relu')(dense_1)\n",
    "    dense_3 = tf.keras.layers.Dense(3, activation='relu')(dense_2)\n",
    "    \n",
    "    # Output layer.\n",
    "    output_layer = tf.keras.layers.Dense(1, name='type_output', activation='sigmoid')(dense_3)\n",
    "    \n",
    "    # Define model.\n",
    "    model = tf.keras.Model(inputs=input_layer, outputs=output_layer, name='model_type')\n",
    "    \n",
    "    # Compile model.\n",
    "    optimizer = tf.keras.optimizers.Adam(0.001)\n",
    "    model.compile(\n",
    "        optimizer=optimizer,\n",
    "        loss='binary_crossentropy',\n",
    "        metrics=tf.keras.metrics.BinaryCrossentropy()\n",
    "    )\n",
    "    \n",
    "    # Display model architecture summary.\n",
    "    model.summary()\n",
    "\n",
    "    return model\n"
   ]
  },
  {
   "cell_type": "code",
   "execution_count": 6,
   "id": "8f916ec6",
   "metadata": {},
   "outputs": [
    {
     "name": "stdout",
     "output_type": "stream",
     "text": [
      "Metal device set to: Apple M1\n",
      "Model: \"model_type\"\n",
      "_________________________________________________________________\n",
      "Layer (type)                 Output Shape              Param #   \n",
      "=================================================================\n",
      "input_1 (InputLayer)         [(None, 15)]              0         \n",
      "_________________________________________________________________\n",
      "dense (Dense)                (None, 9)                 144       \n",
      "_________________________________________________________________\n",
      "dense_1 (Dense)              (None, 6)                 60        \n",
      "_________________________________________________________________\n",
      "dense_2 (Dense)              (None, 3)                 21        \n",
      "_________________________________________________________________\n",
      "type_output (Dense)          (None, 1)                 4         \n",
      "=================================================================\n",
      "Total params: 229\n",
      "Trainable params: 229\n",
      "Non-trainable params: 0\n",
      "_________________________________________________________________\n",
      "Model: \"model_quality\"\n",
      "_________________________________________________________________\n",
      "Layer (type)                 Output Shape              Param #   \n",
      "=================================================================\n",
      "input_2 (InputLayer)         [(None, 15)]              0         \n",
      "_________________________________________________________________\n",
      "quality_output (Dense)       (None, 1)                 16        \n",
      "=================================================================\n",
      "Total params: 16\n",
      "Trainable params: 16\n",
      "Non-trainable params: 0\n",
      "_________________________________________________________________\n"
     ]
    },
    {
     "name": "stderr",
     "output_type": "stream",
     "text": [
      "2022-04-10 19:54:23.002958: I tensorflow/core/common_runtime/pluggable_device/pluggable_device_factory.cc:305] Could not identify NUMA node of platform GPU ID 0, defaulting to 0. Your kernel may not have been built with NUMA support.\n",
      "2022-04-10 19:54:23.003060: I tensorflow/core/common_runtime/pluggable_device/pluggable_device_factory.cc:271] Created TensorFlow device (/job:localhost/replica:0/task:0/device:GPU:0 with 0 MB memory) -> physical PluggableDevice (device: 0, name: METAL, pci bus id: <undefined>)\n"
     ]
    }
   ],
   "source": [
    "# Build model to predict price.\n",
    "model_type = build_type_model()\n",
    "\n",
    "# Build model to predict quality.\n",
    "model_quality = build_quality_model()\n"
   ]
  },
  {
   "cell_type": "code",
   "execution_count": 7,
   "id": "c281e6c8",
   "metadata": {
    "scrolled": true
   },
   "outputs": [
    {
     "name": "stdout",
     "output_type": "stream",
     "text": [
      "Epoch 1/40\n"
     ]
    },
    {
     "name": "stderr",
     "output_type": "stream",
     "text": [
      "2022-04-10 19:54:23.071385: I tensorflow/compiler/mlir/mlir_graph_optimization_pass.cc:176] None of the MLIR Optimization Passes are enabled (registered 2)\n",
      "2022-04-10 19:54:23.071546: W tensorflow/core/platform/profile_utils/cpu_utils.cc:128] Failed to get CPU frequency: 0 Hz\n",
      "2022-04-10 19:54:23.184462: I tensorflow/core/grappler/optimizers/custom_graph_optimizer_registry.cc:112] Plugin optimizer for device_type GPU is enabled.\n"
     ]
    },
    {
     "name": "stdout",
     "output_type": "stream",
     "text": [
      "382/382 [==============================] - 3s 6ms/step - loss: 0.6496 - binary_crossentropy: 0.6496 - val_loss: 0.6013 - val_binary_crossentropy: 0.6013\n",
      "Epoch 2/40\n",
      "  1/382 [..............................] - ETA: 1s - loss: 0.5836 - binary_crossentropy: 0.5836"
     ]
    },
    {
     "name": "stderr",
     "output_type": "stream",
     "text": [
      "2022-04-10 19:54:25.444887: I tensorflow/core/grappler/optimizers/custom_graph_optimizer_registry.cc:112] Plugin optimizer for device_type GPU is enabled.\n"
     ]
    },
    {
     "name": "stdout",
     "output_type": "stream",
     "text": [
      "382/382 [==============================] - 2s 5ms/step - loss: 0.5614 - binary_crossentropy: 0.5614 - val_loss: 0.5145 - val_binary_crossentropy: 0.5145\n",
      "Epoch 3/40\n",
      "382/382 [==============================] - 2s 5ms/step - loss: 0.4984 - binary_crossentropy: 0.4984 - val_loss: 0.4884 - val_binary_crossentropy: 0.4884\n",
      "Epoch 4/40\n",
      "382/382 [==============================] - 2s 5ms/step - loss: 0.4804 - binary_crossentropy: 0.4804 - val_loss: 0.4758 - val_binary_crossentropy: 0.4758\n",
      "Epoch 5/40\n",
      "382/382 [==============================] - 2s 5ms/step - loss: 0.4679 - binary_crossentropy: 0.4679 - val_loss: 0.4662 - val_binary_crossentropy: 0.4662\n",
      "Epoch 6/40\n",
      "382/382 [==============================] - 2s 5ms/step - loss: 0.4599 - binary_crossentropy: 0.4599 - val_loss: 0.4583 - val_binary_crossentropy: 0.4583\n",
      "Epoch 7/40\n",
      "382/382 [==============================] - 2s 5ms/step - loss: 0.4545 - binary_crossentropy: 0.4545 - val_loss: 0.4544 - val_binary_crossentropy: 0.4544\n",
      "Epoch 8/40\n",
      "382/382 [==============================] - 2s 5ms/step - loss: 0.4521 - binary_crossentropy: 0.4521 - val_loss: 0.4508 - val_binary_crossentropy: 0.4508\n",
      "Epoch 9/40\n",
      "382/382 [==============================] - 2s 5ms/step - loss: 0.4502 - binary_crossentropy: 0.4502 - val_loss: 0.4523 - val_binary_crossentropy: 0.4523\n",
      "Epoch 10/40\n",
      "382/382 [==============================] - 2s 5ms/step - loss: 0.4488 - binary_crossentropy: 0.4488 - val_loss: 0.4493 - val_binary_crossentropy: 0.4493\n",
      "Epoch 11/40\n",
      "382/382 [==============================] - 2s 5ms/step - loss: 0.4477 - binary_crossentropy: 0.4477 - val_loss: 0.4496 - val_binary_crossentropy: 0.4496\n",
      "Epoch 12/40\n",
      "382/382 [==============================] - 2s 5ms/step - loss: 0.4470 - binary_crossentropy: 0.4470 - val_loss: 0.4485 - val_binary_crossentropy: 0.4485\n",
      "Epoch 13/40\n",
      "382/382 [==============================] - 2s 5ms/step - loss: 0.4462 - binary_crossentropy: 0.4462 - val_loss: 0.4463 - val_binary_crossentropy: 0.4463\n",
      "Epoch 14/40\n",
      "382/382 [==============================] - 2s 5ms/step - loss: 0.4455 - binary_crossentropy: 0.4455 - val_loss: 0.4455 - val_binary_crossentropy: 0.4455\n",
      "Epoch 15/40\n",
      "382/382 [==============================] - 2s 5ms/step - loss: 0.4448 - binary_crossentropy: 0.4448 - val_loss: 0.4477 - val_binary_crossentropy: 0.4477\n",
      "Epoch 16/40\n",
      "382/382 [==============================] - 2s 5ms/step - loss: 0.4444 - binary_crossentropy: 0.4444 - val_loss: 0.4460 - val_binary_crossentropy: 0.4460\n",
      "Epoch 17/40\n",
      "382/382 [==============================] - 2s 5ms/step - loss: 0.4435 - binary_crossentropy: 0.4435 - val_loss: 0.4465 - val_binary_crossentropy: 0.4465\n",
      "Epoch 18/40\n",
      "382/382 [==============================] - 2s 5ms/step - loss: 0.4428 - binary_crossentropy: 0.4428 - val_loss: 0.4490 - val_binary_crossentropy: 0.4490\n",
      "Epoch 19/40\n",
      "382/382 [==============================] - 2s 5ms/step - loss: 0.4422 - binary_crossentropy: 0.4422 - val_loss: 0.4459 - val_binary_crossentropy: 0.4459\n",
      "Epoch 20/40\n",
      "382/382 [==============================] - 2s 5ms/step - loss: 0.4417 - binary_crossentropy: 0.4417 - val_loss: 0.4470 - val_binary_crossentropy: 0.4470\n",
      "Epoch 21/40\n",
      "382/382 [==============================] - 2s 5ms/step - loss: 0.4417 - binary_crossentropy: 0.4417 - val_loss: 0.4436 - val_binary_crossentropy: 0.4436\n",
      "Epoch 22/40\n",
      "382/382 [==============================] - 2s 5ms/step - loss: 0.4403 - binary_crossentropy: 0.4403 - val_loss: 0.4474 - val_binary_crossentropy: 0.4474\n",
      "Epoch 23/40\n",
      "382/382 [==============================] - 2s 5ms/step - loss: 0.4400 - binary_crossentropy: 0.4400 - val_loss: 0.4452 - val_binary_crossentropy: 0.4452\n",
      "Epoch 24/40\n",
      "382/382 [==============================] - 2s 5ms/step - loss: 0.4394 - binary_crossentropy: 0.4394 - val_loss: 0.4505 - val_binary_crossentropy: 0.4505\n",
      "Epoch 25/40\n",
      "382/382 [==============================] - 2s 5ms/step - loss: 0.4391 - binary_crossentropy: 0.4391 - val_loss: 0.4442 - val_binary_crossentropy: 0.4442\n",
      "Epoch 26/40\n",
      "382/382 [==============================] - 2s 5ms/step - loss: 0.4383 - binary_crossentropy: 0.4383 - val_loss: 0.4452 - val_binary_crossentropy: 0.4452\n",
      "Epoch 27/40\n",
      "382/382 [==============================] - 2s 5ms/step - loss: 0.4380 - binary_crossentropy: 0.4380 - val_loss: 0.4440 - val_binary_crossentropy: 0.4440\n",
      "Epoch 28/40\n",
      "382/382 [==============================] - 2s 5ms/step - loss: 0.4378 - binary_crossentropy: 0.4378 - val_loss: 0.4418 - val_binary_crossentropy: 0.4418\n",
      "Epoch 29/40\n",
      "382/382 [==============================] - 2s 5ms/step - loss: 0.4369 - binary_crossentropy: 0.4369 - val_loss: 0.4436 - val_binary_crossentropy: 0.4436\n",
      "Epoch 30/40\n",
      "382/382 [==============================] - 2s 5ms/step - loss: 0.4372 - binary_crossentropy: 0.4372 - val_loss: 0.4468 - val_binary_crossentropy: 0.4468\n",
      "Epoch 31/40\n",
      "382/382 [==============================] - 2s 5ms/step - loss: 0.4372 - binary_crossentropy: 0.4372 - val_loss: 0.4431 - val_binary_crossentropy: 0.4431\n",
      "Epoch 32/40\n",
      "382/382 [==============================] - 2s 5ms/step - loss: 0.4365 - binary_crossentropy: 0.4365 - val_loss: 0.4435 - val_binary_crossentropy: 0.4435\n",
      "Epoch 33/40\n",
      "382/382 [==============================] - 2s 5ms/step - loss: 0.4368 - binary_crossentropy: 0.4368 - val_loss: 0.4438 - val_binary_crossentropy: 0.4438\n",
      "Epoch 34/40\n",
      "382/382 [==============================] - 2s 5ms/step - loss: 0.4358 - binary_crossentropy: 0.4358 - val_loss: 0.4435 - val_binary_crossentropy: 0.4435\n",
      "Epoch 35/40\n",
      "382/382 [==============================] - 2s 5ms/step - loss: 0.4357 - binary_crossentropy: 0.4357 - val_loss: 0.4457 - val_binary_crossentropy: 0.4457\n",
      "Epoch 36/40\n",
      "382/382 [==============================] - 2s 5ms/step - loss: 0.4365 - binary_crossentropy: 0.4365 - val_loss: 0.4451 - val_binary_crossentropy: 0.4451\n",
      "Epoch 37/40\n",
      "382/382 [==============================] - 2s 5ms/step - loss: 0.4358 - binary_crossentropy: 0.4358 - val_loss: 0.4417 - val_binary_crossentropy: 0.4417\n",
      "Epoch 38/40\n",
      "382/382 [==============================] - 2s 5ms/step - loss: 0.4365 - binary_crossentropy: 0.4365 - val_loss: 0.4424 - val_binary_crossentropy: 0.4424\n",
      "Epoch 1/40\n",
      " 31/382 [=>............................] - ETA: 1s - loss: 0.7562 - root_mean_squared_error: 0.8483"
     ]
    },
    {
     "name": "stderr",
     "output_type": "stream",
     "text": [
      "2022-04-10 19:55:35.502771: I tensorflow/core/grappler/optimizers/custom_graph_optimizer_registry.cc:112] Plugin optimizer for device_type GPU is enabled.\n"
     ]
    },
    {
     "name": "stdout",
     "output_type": "stream",
     "text": [
      "382/382 [==============================] - 2s 4ms/step - loss: 0.4862 - root_mean_squared_error: 0.6751 - val_loss: 0.2704 - val_root_mean_squared_error: 0.4950\n",
      "Epoch 2/40\n",
      "  1/382 [..............................] - ETA: 1s - loss: 0.4054 - root_mean_squared_error: 0.6164"
     ]
    },
    {
     "name": "stderr",
     "output_type": "stream",
     "text": [
      "2022-04-10 19:55:36.870588: I tensorflow/core/grappler/optimizers/custom_graph_optimizer_registry.cc:112] Plugin optimizer for device_type GPU is enabled.\n"
     ]
    },
    {
     "name": "stdout",
     "output_type": "stream",
     "text": [
      "382/382 [==============================] - 1s 4ms/step - loss: 0.2368 - root_mean_squared_error: 0.4622 - val_loss: 0.1773 - val_root_mean_squared_error: 0.3952\n",
      "Epoch 3/40\n",
      "382/382 [==============================] - 1s 4ms/step - loss: 0.1767 - root_mean_squared_error: 0.3969 - val_loss: 0.1439 - val_root_mean_squared_error: 0.3555\n",
      "Epoch 4/40\n",
      "382/382 [==============================] - 1s 4ms/step - loss: 0.1558 - root_mean_squared_error: 0.3727 - val_loss: 0.1313 - val_root_mean_squared_error: 0.3395\n",
      "Epoch 5/40\n",
      "382/382 [==============================] - 1s 4ms/step - loss: 0.1464 - root_mean_squared_error: 0.3622 - val_loss: 0.1234 - val_root_mean_squared_error: 0.3303\n",
      "Epoch 6/40\n",
      "382/382 [==============================] - 1s 4ms/step - loss: 0.1409 - root_mean_squared_error: 0.3567 - val_loss: 0.1188 - val_root_mean_squared_error: 0.3251\n",
      "Epoch 7/40\n",
      "382/382 [==============================] - 1s 4ms/step - loss: 0.1386 - root_mean_squared_error: 0.3546 - val_loss: 0.1168 - val_root_mean_squared_error: 0.3223\n",
      "Epoch 8/40\n",
      "382/382 [==============================] - 1s 4ms/step - loss: 0.1373 - root_mean_squared_error: 0.3530 - val_loss: 0.1151 - val_root_mean_squared_error: 0.3206\n",
      "Epoch 9/40\n",
      "382/382 [==============================] - 1s 4ms/step - loss: 0.1362 - root_mean_squared_error: 0.3520 - val_loss: 0.1138 - val_root_mean_squared_error: 0.3193\n",
      "Epoch 10/40\n",
      "382/382 [==============================] - 1s 4ms/step - loss: 0.1352 - root_mean_squared_error: 0.3511 - val_loss: 0.1129 - val_root_mean_squared_error: 0.3181\n",
      "Epoch 11/40\n",
      "382/382 [==============================] - 1s 4ms/step - loss: 0.1349 - root_mean_squared_error: 0.3511 - val_loss: 0.1119 - val_root_mean_squared_error: 0.3170\n",
      "Epoch 12/40\n",
      "382/382 [==============================] - 1s 4ms/step - loss: 0.1344 - root_mean_squared_error: 0.3508 - val_loss: 0.1118 - val_root_mean_squared_error: 0.3174\n",
      "Epoch 13/40\n",
      "382/382 [==============================] - 1s 4ms/step - loss: 0.1336 - root_mean_squared_error: 0.3501 - val_loss: 0.1116 - val_root_mean_squared_error: 0.3173\n",
      "Epoch 14/40\n",
      "382/382 [==============================] - 1s 4ms/step - loss: 0.1336 - root_mean_squared_error: 0.3502 - val_loss: 0.1117 - val_root_mean_squared_error: 0.3179\n",
      "Epoch 15/40\n",
      "382/382 [==============================] - 1s 4ms/step - loss: 0.1333 - root_mean_squared_error: 0.3499 - val_loss: 0.1115 - val_root_mean_squared_error: 0.3171\n",
      "Epoch 16/40\n",
      "382/382 [==============================] - 1s 4ms/step - loss: 0.1336 - root_mean_squared_error: 0.3502 - val_loss: 0.1121 - val_root_mean_squared_error: 0.3178\n",
      "Epoch 17/40\n",
      "382/382 [==============================] - 1s 4ms/step - loss: 0.1334 - root_mean_squared_error: 0.3500 - val_loss: 0.1109 - val_root_mean_squared_error: 0.3157\n",
      "Epoch 18/40\n",
      "382/382 [==============================] - 1s 4ms/step - loss: 0.1331 - root_mean_squared_error: 0.3494 - val_loss: 0.1114 - val_root_mean_squared_error: 0.3176\n",
      "Epoch 19/40\n",
      "382/382 [==============================] - 1s 4ms/step - loss: 0.1332 - root_mean_squared_error: 0.3498 - val_loss: 0.1111 - val_root_mean_squared_error: 0.3161\n",
      "Epoch 20/40\n",
      "382/382 [==============================] - 1s 4ms/step - loss: 0.1334 - root_mean_squared_error: 0.3498 - val_loss: 0.1111 - val_root_mean_squared_error: 0.3168\n",
      "Epoch 21/40\n",
      "382/382 [==============================] - 1s 4ms/step - loss: 0.1333 - root_mean_squared_error: 0.3497 - val_loss: 0.1114 - val_root_mean_squared_error: 0.3171\n",
      "Epoch 22/40\n",
      "382/382 [==============================] - 1s 4ms/step - loss: 0.1332 - root_mean_squared_error: 0.3494 - val_loss: 0.1133 - val_root_mean_squared_error: 0.3195\n",
      "Epoch 23/40\n",
      "382/382 [==============================] - 1s 4ms/step - loss: 0.1331 - root_mean_squared_error: 0.3493 - val_loss: 0.1116 - val_root_mean_squared_error: 0.3177\n",
      "Epoch 24/40\n",
      "382/382 [==============================] - 1s 4ms/step - loss: 0.1333 - root_mean_squared_error: 0.3497 - val_loss: 0.1115 - val_root_mean_squared_error: 0.3175\n",
      "Epoch 25/40\n",
      "382/382 [==============================] - 1s 4ms/step - loss: 0.1332 - root_mean_squared_error: 0.3494 - val_loss: 0.1125 - val_root_mean_squared_error: 0.3191\n",
      "Epoch 26/40\n",
      "382/382 [==============================] - 1s 4ms/step - loss: 0.1336 - root_mean_squared_error: 0.3503 - val_loss: 0.1110 - val_root_mean_squared_error: 0.3163\n",
      "Epoch 27/40\n",
      "382/382 [==============================] - 1s 4ms/step - loss: 0.1332 - root_mean_squared_error: 0.3496 - val_loss: 0.1109 - val_root_mean_squared_error: 0.3160\n"
     ]
    },
    {
     "data": {
      "text/plain": [
       "<tensorflow.python.keras.callbacks.History at 0x1655e3610>"
      ]
     },
     "execution_count": 7,
     "metadata": {},
     "output_type": "execute_result"
    }
   ],
   "source": [
    "# Fit price model.\n",
    "model_type.fit(\n",
    "    X_train,\n",
    "    Y_train['type'],\n",
    "    epochs=40,\n",
    "    batch_size=32, \n",
    "    validation_data=(X_val, Y_val['type']),\n",
    "    callbacks=[tf.keras.callbacks.EarlyStopping(min_delta=1e-3,\n",
    "                                                monitor='val_binary_crossentropy',\n",
    "                                                patience=10)]\n",
    ")\n",
    "\n",
    "# Fit quality model.\n",
    "model_quality.fit(\n",
    "    X_train,\n",
    "    Y_train['quality'],\n",
    "    epochs=40,\n",
    "    batch_size=32, \n",
    "    validation_data=(X_val, Y_val['quality']),\n",
    "    callbacks=[tf.keras.callbacks.EarlyStopping(min_delta=1e-3,\n",
    "                                                monitor='val_root_mean_squared_error',\n",
    "                                                patience=10)]\n",
    ")\n"
   ]
  },
  {
   "cell_type": "code",
   "execution_count": 8,
   "id": "3b1cbb0d",
   "metadata": {},
   "outputs": [
    {
     "name": "stdout",
     "output_type": "stream",
     "text": [
      "68/68 [==============================] - 0s 3ms/step - loss: 0.4424 - binary_crossentropy: 0.4424\n",
      "68/68 [==============================] - 0s 3ms/step - loss: 0.1109 - root_mean_squared_error: 0.3160\n"
     ]
    }
   ],
   "source": [
    "# Save metrics for both models.\n",
    "type_results_dict = model_type.evaluate(X_val, Y_val['type'], return_dict=True)\n",
    "quality_results_dict = model_quality.evaluate(X_val, Y_val['quality'], return_dict=True)\n"
   ]
  },
  {
   "cell_type": "code",
   "execution_count": 9,
   "id": "f1c30559",
   "metadata": {},
   "outputs": [],
   "source": [
    "# Model constructor.\n",
    "def build_multitask_model():\n",
    "    # Input layer.\n",
    "    input_layer = tf.keras.layers.Input(shape=(len(X.columns),))\n",
    "    \n",
    "    # Type prediction layers.\n",
    "    type_dense_1 = tf.keras.layers.Dense(9, activation='relu')(input_layer)\n",
    "    type_dense_2 = tf.keras.layers.Dense(6, activation='relu')(type_dense_1)\n",
    "    type_dense_3 = tf.keras.layers.Dense(3, activation='relu')(type_dense_2)\n",
    "    type_output = tf.keras.layers.Dense(1, activation='sigmoid', name='type_output')(type_dense_3)\n",
    "    \n",
    "    # Quality prediction layers.\n",
    "    quality_output = tf.keras.layers.Dense(\n",
    "        1,\n",
    "        kernel_regularizer=tf.keras.regularizers.l1(0.01),\n",
    "        name='quality_output',\n",
    "        activation='linear'\n",
    "    )(input_layer)\n",
    "    \n",
    "    # Define model.\n",
    "    model = tf.keras.Model(\n",
    "        inputs=input_layer,\n",
    "        outputs=[type_output, quality_output],\n",
    "        name='multitask_model'\n",
    "    )\n",
    "    \n",
    "    # Display model summary.\n",
    "    model.summary()\n",
    "\n",
    "    return model\n"
   ]
  },
  {
   "cell_type": "code",
   "execution_count": 10,
   "id": "786d1611",
   "metadata": {},
   "outputs": [
    {
     "name": "stdout",
     "output_type": "stream",
     "text": [
      "Model: \"multitask_model\"\n",
      "__________________________________________________________________________________________________\n",
      "Layer (type)                    Output Shape         Param #     Connected to                     \n",
      "==================================================================================================\n",
      "input_3 (InputLayer)            [(None, 15)]         0                                            \n",
      "__________________________________________________________________________________________________\n",
      "dense_3 (Dense)                 (None, 9)            144         input_3[0][0]                    \n",
      "__________________________________________________________________________________________________\n",
      "dense_4 (Dense)                 (None, 6)            60          dense_3[0][0]                    \n",
      "__________________________________________________________________________________________________\n",
      "dense_5 (Dense)                 (None, 3)            21          dense_4[0][0]                    \n",
      "__________________________________________________________________________________________________\n",
      "type_output (Dense)             (None, 1)            4           dense_5[0][0]                    \n",
      "__________________________________________________________________________________________________\n",
      "quality_output (Dense)          (None, 1)            16          input_3[0][0]                    \n",
      "==================================================================================================\n",
      "Total params: 245\n",
      "Trainable params: 245\n",
      "Non-trainable params: 0\n",
      "__________________________________________________________________________________________________\n"
     ]
    }
   ],
   "source": [
    "# Instantiate model.\n",
    "multitask_model = build_multitask_model()\n",
    "\n",
    "# Compile model.\n",
    "optimizer = tf.keras.optimizers.Adam(0.001)\n",
    "\n",
    "multitask_model.compile(\n",
    "    optimizer=optimizer,\n",
    "    loss={'type_output':'binary_crossentropy', 'quality_output':'mse'},\n",
    "    metrics={\n",
    "        'type_output':tf.keras.metrics.BinaryCrossentropy(), \n",
    "        'quality_output':tf.keras.metrics.RootMeanSquaredError()\n",
    "    }\n",
    ")\n"
   ]
  },
  {
   "cell_type": "code",
   "execution_count": 11,
   "id": "ef9812c6",
   "metadata": {
    "scrolled": true
   },
   "outputs": [
    {
     "name": "stdout",
     "output_type": "stream",
     "text": [
      "Epoch 1/50\n",
      "  8/382 [..............................] - ETA: 2s - loss: 1.9312 - type_output_loss: 0.7132 - quality_output_loss: 1.1823 - type_output_binary_crossentropy: 0.7132 - quality_output_root_mean_squared_error: 1.0874  "
     ]
    },
    {
     "name": "stderr",
     "output_type": "stream",
     "text": [
      "2022-04-10 19:56:14.328689: I tensorflow/core/grappler/optimizers/custom_graph_optimizer_registry.cc:112] Plugin optimizer for device_type GPU is enabled.\n"
     ]
    },
    {
     "name": "stdout",
     "output_type": "stream",
     "text": [
      "382/382 [==============================] - ETA: 0s - loss: 1.1892 - type_output_loss: 0.6487 - quality_output_loss: 0.5106 - type_output_binary_crossentropy: 0.6487 - quality_output_root_mean_squared_error: 0.7145"
     ]
    },
    {
     "name": "stderr",
     "output_type": "stream",
     "text": [
      "2022-04-10 19:56:17.217322: I tensorflow/core/grappler/optimizers/custom_graph_optimizer_registry.cc:112] Plugin optimizer for device_type GPU is enabled.\n"
     ]
    },
    {
     "name": "stdout",
     "output_type": "stream",
     "text": [
      "382/382 [==============================] - 3s 8ms/step - loss: 1.1892 - type_output_loss: 0.6487 - quality_output_loss: 0.5106 - type_output_binary_crossentropy: 0.6487 - quality_output_root_mean_squared_error: 0.7145 - val_loss: 0.8852 - val_type_output_loss: 0.6099 - val_quality_output_loss: 0.2486 - val_type_output_binary_crossentropy: 0.6099 - val_quality_output_root_mean_squared_error: 0.4986\n",
      "Epoch 2/50\n",
      "382/382 [==============================] - 3s 7ms/step - loss: 0.7844 - type_output_loss: 0.5721 - quality_output_loss: 0.1878 - type_output_binary_crossentropy: 0.5721 - quality_output_root_mean_squared_error: 0.4333 - val_loss: 0.6757 - val_type_output_loss: 0.5132 - val_quality_output_loss: 0.1397 - val_type_output_binary_crossentropy: 0.5132 - val_quality_output_root_mean_squared_error: 0.3738\n",
      "Epoch 3/50\n",
      "382/382 [==============================] - 3s 8ms/step - loss: 0.6542 - type_output_loss: 0.4948 - quality_output_loss: 0.1378 - type_output_binary_crossentropy: 0.4948 - quality_output_root_mean_squared_error: 0.3712 - val_loss: 0.6153 - val_type_output_loss: 0.4784 - val_quality_output_loss: 0.1165 - val_type_output_binary_crossentropy: 0.4784 - val_quality_output_root_mean_squared_error: 0.3413\n",
      "Epoch 4/50\n",
      "382/382 [==============================] - 3s 8ms/step - loss: 0.6232 - type_output_loss: 0.4767 - quality_output_loss: 0.1270 - type_output_binary_crossentropy: 0.4767 - quality_output_root_mean_squared_error: 0.3563 - val_loss: 0.5932 - val_type_output_loss: 0.4658 - val_quality_output_loss: 0.1085 - val_type_output_binary_crossentropy: 0.4658 - val_quality_output_root_mean_squared_error: 0.3294\n",
      "Epoch 5/50\n",
      "382/382 [==============================] - 3s 7ms/step - loss: 0.6068 - type_output_loss: 0.4651 - quality_output_loss: 0.1237 - type_output_binary_crossentropy: 0.4651 - quality_output_root_mean_squared_error: 0.3517 - val_loss: 0.5782 - val_type_output_loss: 0.4561 - val_quality_output_loss: 0.1044 - val_type_output_binary_crossentropy: 0.4561 - val_quality_output_root_mean_squared_error: 0.3230\n",
      "Epoch 6/50\n",
      "382/382 [==============================] - 3s 7ms/step - loss: 0.5962 - type_output_loss: 0.4564 - quality_output_loss: 0.1224 - type_output_binary_crossentropy: 0.4564 - quality_output_root_mean_squared_error: 0.3499 - val_loss: 0.5714 - val_type_output_loss: 0.4515 - val_quality_output_loss: 0.1030 - val_type_output_binary_crossentropy: 0.4515 - val_quality_output_root_mean_squared_error: 0.3210\n",
      "Epoch 7/50\n",
      "382/382 [==============================] - 3s 7ms/step - loss: 0.5895 - type_output_loss: 0.4508 - quality_output_loss: 0.1222 - type_output_binary_crossentropy: 0.4508 - quality_output_root_mean_squared_error: 0.3495 - val_loss: 0.5652 - val_type_output_loss: 0.4471 - val_quality_output_loss: 0.1017 - val_type_output_binary_crossentropy: 0.4471 - val_quality_output_root_mean_squared_error: 0.3189\n",
      "Epoch 8/50\n",
      "382/382 [==============================] - 3s 7ms/step - loss: 0.5854 - type_output_loss: 0.4475 - quality_output_loss: 0.1219 - type_output_binary_crossentropy: 0.4475 - quality_output_root_mean_squared_error: 0.3491 - val_loss: 0.5624 - val_type_output_loss: 0.4453 - val_quality_output_loss: 0.1012 - val_type_output_binary_crossentropy: 0.4453 - val_quality_output_root_mean_squared_error: 0.3181\n",
      "Epoch 9/50\n",
      "382/382 [==============================] - 3s 8ms/step - loss: 0.5830 - type_output_loss: 0.4455 - quality_output_loss: 0.1219 - type_output_binary_crossentropy: 0.4455 - quality_output_root_mean_squared_error: 0.3492 - val_loss: 0.5615 - val_type_output_loss: 0.4452 - val_quality_output_loss: 0.1012 - val_type_output_binary_crossentropy: 0.4452 - val_quality_output_root_mean_squared_error: 0.3182\n",
      "Epoch 10/50\n",
      "382/382 [==============================] - 3s 8ms/step - loss: 0.5809 - type_output_loss: 0.4440 - quality_output_loss: 0.1221 - type_output_binary_crossentropy: 0.4440 - quality_output_root_mean_squared_error: 0.3495 - val_loss: 0.5598 - val_type_output_loss: 0.4440 - val_quality_output_loss: 0.1012 - val_type_output_binary_crossentropy: 0.4440 - val_quality_output_root_mean_squared_error: 0.3181\n",
      "Epoch 11/50\n",
      "382/382 [==============================] - 3s 8ms/step - loss: 0.5796 - type_output_loss: 0.4431 - quality_output_loss: 0.1223 - type_output_binary_crossentropy: 0.4431 - quality_output_root_mean_squared_error: 0.3497 - val_loss: 0.5561 - val_type_output_loss: 0.4412 - val_quality_output_loss: 0.1009 - val_type_output_binary_crossentropy: 0.4412 - val_quality_output_root_mean_squared_error: 0.3176\n",
      "Epoch 12/50\n",
      "382/382 [==============================] - 3s 7ms/step - loss: 0.5768 - type_output_loss: 0.4413 - quality_output_loss: 0.1218 - type_output_binary_crossentropy: 0.4413 - quality_output_root_mean_squared_error: 0.3491 - val_loss: 0.5593 - val_type_output_loss: 0.4451 - val_quality_output_loss: 0.1010 - val_type_output_binary_crossentropy: 0.4451 - val_quality_output_root_mean_squared_error: 0.3177\n",
      "Epoch 13/50\n",
      "382/382 [==============================] - 3s 8ms/step - loss: 0.5766 - type_output_loss: 0.4415 - quality_output_loss: 0.1222 - type_output_binary_crossentropy: 0.4415 - quality_output_root_mean_squared_error: 0.3496 - val_loss: 0.5547 - val_type_output_loss: 0.4414 - val_quality_output_loss: 0.1004 - val_type_output_binary_crossentropy: 0.4414 - val_quality_output_root_mean_squared_error: 0.3169\n",
      "Epoch 14/50\n",
      "382/382 [==============================] - 3s 8ms/step - loss: 0.5747 - type_output_loss: 0.4404 - quality_output_loss: 0.1218 - type_output_binary_crossentropy: 0.4404 - quality_output_root_mean_squared_error: 0.3491 - val_loss: 0.5530 - val_type_output_loss: 0.4393 - val_quality_output_loss: 0.1017 - val_type_output_binary_crossentropy: 0.4393 - val_quality_output_root_mean_squared_error: 0.3189\n",
      "Epoch 15/50\n",
      "382/382 [==============================] - 3s 8ms/step - loss: 0.5736 - type_output_loss: 0.4396 - quality_output_loss: 0.1222 - type_output_binary_crossentropy: 0.4396 - quality_output_root_mean_squared_error: 0.3496 - val_loss: 0.5540 - val_type_output_loss: 0.4410 - val_quality_output_loss: 0.1014 - val_type_output_binary_crossentropy: 0.4410 - val_quality_output_root_mean_squared_error: 0.3184\n",
      "Epoch 16/50\n",
      "382/382 [==============================] - 3s 8ms/step - loss: 0.5726 - type_output_loss: 0.4389 - quality_output_loss: 0.1220 - type_output_binary_crossentropy: 0.4389 - quality_output_root_mean_squared_error: 0.3493 - val_loss: 0.5514 - val_type_output_loss: 0.4392 - val_quality_output_loss: 0.1009 - val_type_output_binary_crossentropy: 0.4392 - val_quality_output_root_mean_squared_error: 0.3176\n",
      "Epoch 17/50\n",
      "382/382 [==============================] - 3s 8ms/step - loss: 0.5727 - type_output_loss: 0.4386 - quality_output_loss: 0.1225 - type_output_binary_crossentropy: 0.4386 - quality_output_root_mean_squared_error: 0.3500 - val_loss: 0.5519 - val_type_output_loss: 0.4401 - val_quality_output_loss: 0.1004 - val_type_output_binary_crossentropy: 0.4401 - val_quality_output_root_mean_squared_error: 0.3169\n",
      "Epoch 18/50\n",
      "382/382 [==============================] - 3s 8ms/step - loss: 0.5723 - type_output_loss: 0.4387 - quality_output_loss: 0.1221 - type_output_binary_crossentropy: 0.4387 - quality_output_root_mean_squared_error: 0.3495 - val_loss: 0.5506 - val_type_output_loss: 0.4392 - val_quality_output_loss: 0.0997 - val_type_output_binary_crossentropy: 0.4392 - val_quality_output_root_mean_squared_error: 0.3158\n",
      "Epoch 19/50\n",
      "382/382 [==============================] - 3s 8ms/step - loss: 0.5722 - type_output_loss: 0.4386 - quality_output_loss: 0.1222 - type_output_binary_crossentropy: 0.4386 - quality_output_root_mean_squared_error: 0.3495 - val_loss: 0.5512 - val_type_output_loss: 0.4397 - val_quality_output_loss: 0.0999 - val_type_output_binary_crossentropy: 0.4397 - val_quality_output_root_mean_squared_error: 0.3160\n",
      "Epoch 20/50\n",
      "382/382 [==============================] - 3s 8ms/step - loss: 0.5710 - type_output_loss: 0.4374 - quality_output_loss: 0.1221 - type_output_binary_crossentropy: 0.4374 - quality_output_root_mean_squared_error: 0.3495 - val_loss: 0.5488 - val_type_output_loss: 0.4375 - val_quality_output_loss: 0.1002 - val_type_output_binary_crossentropy: 0.4375 - val_quality_output_root_mean_squared_error: 0.3165\n"
     ]
    },
    {
     "name": "stdout",
     "output_type": "stream",
     "text": [
      "Epoch 21/50\n",
      "382/382 [==============================] - 3s 8ms/step - loss: 0.5712 - type_output_loss: 0.4379 - quality_output_loss: 0.1220 - type_output_binary_crossentropy: 0.4379 - quality_output_root_mean_squared_error: 0.3492 - val_loss: 0.5512 - val_type_output_loss: 0.4381 - val_quality_output_loss: 0.1019 - val_type_output_binary_crossentropy: 0.4381 - val_quality_output_root_mean_squared_error: 0.3192\n",
      "Epoch 22/50\n",
      "382/382 [==============================] - 3s 7ms/step - loss: 0.5711 - type_output_loss: 0.4372 - quality_output_loss: 0.1225 - type_output_binary_crossentropy: 0.4372 - quality_output_root_mean_squared_error: 0.3500 - val_loss: 0.5498 - val_type_output_loss: 0.4373 - val_quality_output_loss: 0.1015 - val_type_output_binary_crossentropy: 0.4373 - val_quality_output_root_mean_squared_error: 0.3185\n",
      "Epoch 23/50\n",
      "382/382 [==============================] - 3s 8ms/step - loss: 0.5702 - type_output_loss: 0.4367 - quality_output_loss: 0.1223 - type_output_binary_crossentropy: 0.4367 - quality_output_root_mean_squared_error: 0.3497 - val_loss: 0.5523 - val_type_output_loss: 0.4404 - val_quality_output_loss: 0.1003 - val_type_output_binary_crossentropy: 0.4404 - val_quality_output_root_mean_squared_error: 0.3167\n",
      "Epoch 24/50\n",
      "382/382 [==============================] - 3s 8ms/step - loss: 0.5698 - type_output_loss: 0.4363 - quality_output_loss: 0.1221 - type_output_binary_crossentropy: 0.4363 - quality_output_root_mean_squared_error: 0.3495 - val_loss: 0.5526 - val_type_output_loss: 0.4412 - val_quality_output_loss: 0.1001 - val_type_output_binary_crossentropy: 0.4412 - val_quality_output_root_mean_squared_error: 0.3164\n",
      "Epoch 25/50\n",
      "382/382 [==============================] - 3s 7ms/step - loss: 0.5698 - type_output_loss: 0.4360 - quality_output_loss: 0.1225 - type_output_binary_crossentropy: 0.4360 - quality_output_root_mean_squared_error: 0.3501 - val_loss: 0.5509 - val_type_output_loss: 0.4386 - val_quality_output_loss: 0.1010 - val_type_output_binary_crossentropy: 0.4386 - val_quality_output_root_mean_squared_error: 0.3179\n",
      "Epoch 26/50\n",
      "382/382 [==============================] - 3s 7ms/step - loss: 0.5686 - type_output_loss: 0.4352 - quality_output_loss: 0.1221 - type_output_binary_crossentropy: 0.4352 - quality_output_root_mean_squared_error: 0.3495 - val_loss: 0.5536 - val_type_output_loss: 0.4422 - val_quality_output_loss: 0.1002 - val_type_output_binary_crossentropy: 0.4422 - val_quality_output_root_mean_squared_error: 0.3166\n",
      "Epoch 27/50\n",
      "382/382 [==============================] - 3s 7ms/step - loss: 0.5684 - type_output_loss: 0.4352 - quality_output_loss: 0.1220 - type_output_binary_crossentropy: 0.4352 - quality_output_root_mean_squared_error: 0.3493 - val_loss: 0.5492 - val_type_output_loss: 0.4376 - val_quality_output_loss: 0.1003 - val_type_output_binary_crossentropy: 0.4376 - val_quality_output_root_mean_squared_error: 0.3166\n",
      "Epoch 28/50\n",
      "382/382 [==============================] - 3s 7ms/step - loss: 0.5684 - type_output_loss: 0.4349 - quality_output_loss: 0.1222 - type_output_binary_crossentropy: 0.4349 - quality_output_root_mean_squared_error: 0.3496 - val_loss: 0.5515 - val_type_output_loss: 0.4398 - val_quality_output_loss: 0.1005 - val_type_output_binary_crossentropy: 0.4398 - val_quality_output_root_mean_squared_error: 0.3170\n",
      "Epoch 29/50\n",
      "382/382 [==============================] - 3s 8ms/step - loss: 0.5682 - type_output_loss: 0.4348 - quality_output_loss: 0.1221 - type_output_binary_crossentropy: 0.4348 - quality_output_root_mean_squared_error: 0.3494 - val_loss: 0.5505 - val_type_output_loss: 0.4389 - val_quality_output_loss: 0.1008 - val_type_output_binary_crossentropy: 0.4389 - val_quality_output_root_mean_squared_error: 0.3175\n",
      "Epoch 30/50\n",
      "382/382 [==============================] - 3s 8ms/step - loss: 0.5678 - type_output_loss: 0.4344 - quality_output_loss: 0.1222 - type_output_binary_crossentropy: 0.4344 - quality_output_root_mean_squared_error: 0.3496 - val_loss: 0.5489 - val_type_output_loss: 0.4378 - val_quality_output_loss: 0.1000 - val_type_output_binary_crossentropy: 0.4378 - val_quality_output_root_mean_squared_error: 0.3163\n",
      "Epoch 31/50\n",
      "382/382 [==============================] - 3s 8ms/step - loss: 0.5671 - type_output_loss: 0.4339 - quality_output_loss: 0.1221 - type_output_binary_crossentropy: 0.4339 - quality_output_root_mean_squared_error: 0.3494 - val_loss: 0.5510 - val_type_output_loss: 0.4398 - val_quality_output_loss: 0.1000 - val_type_output_binary_crossentropy: 0.4398 - val_quality_output_root_mean_squared_error: 0.3163\n",
      "Epoch 32/50\n",
      "382/382 [==============================] - 3s 8ms/step - loss: 0.5670 - type_output_loss: 0.4336 - quality_output_loss: 0.1222 - type_output_binary_crossentropy: 0.4336 - quality_output_root_mean_squared_error: 0.3495 - val_loss: 0.5491 - val_type_output_loss: 0.4372 - val_quality_output_loss: 0.1008 - val_type_output_binary_crossentropy: 0.4372 - val_quality_output_root_mean_squared_error: 0.3176\n",
      "Epoch 33/50\n",
      "382/382 [==============================] - 3s 8ms/step - loss: 0.5664 - type_output_loss: 0.4333 - quality_output_loss: 0.1220 - type_output_binary_crossentropy: 0.4333 - quality_output_root_mean_squared_error: 0.3492 - val_loss: 0.5492 - val_type_output_loss: 0.4370 - val_quality_output_loss: 0.1015 - val_type_output_binary_crossentropy: 0.4370 - val_quality_output_root_mean_squared_error: 0.3186\n",
      "Epoch 34/50\n",
      "382/382 [==============================] - 3s 8ms/step - loss: 0.5667 - type_output_loss: 0.4334 - quality_output_loss: 0.1222 - type_output_binary_crossentropy: 0.4334 - quality_output_root_mean_squared_error: 0.3496 - val_loss: 0.5485 - val_type_output_loss: 0.4363 - val_quality_output_loss: 0.1009 - val_type_output_binary_crossentropy: 0.4363 - val_quality_output_root_mean_squared_error: 0.3177\n",
      "Epoch 35/50\n",
      "382/382 [==============================] - 3s 8ms/step - loss: 0.5659 - type_output_loss: 0.4332 - quality_output_loss: 0.1215 - type_output_binary_crossentropy: 0.4332 - quality_output_root_mean_squared_error: 0.3486 - val_loss: 0.5483 - val_type_output_loss: 0.4365 - val_quality_output_loss: 0.1012 - val_type_output_binary_crossentropy: 0.4365 - val_quality_output_root_mean_squared_error: 0.3181\n",
      "Epoch 36/50\n",
      "382/382 [==============================] - 3s 8ms/step - loss: 0.5655 - type_output_loss: 0.4324 - quality_output_loss: 0.1222 - type_output_binary_crossentropy: 0.4324 - quality_output_root_mean_squared_error: 0.3496 - val_loss: 0.5495 - val_type_output_loss: 0.4375 - val_quality_output_loss: 0.1007 - val_type_output_binary_crossentropy: 0.4375 - val_quality_output_root_mean_squared_error: 0.3173\n",
      "Epoch 37/50\n",
      "382/382 [==============================] - 3s 7ms/step - loss: 0.5653 - type_output_loss: 0.4321 - quality_output_loss: 0.1220 - type_output_binary_crossentropy: 0.4321 - quality_output_root_mean_squared_error: 0.3492 - val_loss: 0.5493 - val_type_output_loss: 0.4360 - val_quality_output_loss: 0.1027 - val_type_output_binary_crossentropy: 0.4360 - val_quality_output_root_mean_squared_error: 0.3205\n",
      "Epoch 38/50\n",
      "382/382 [==============================] - 3s 8ms/step - loss: 0.5654 - type_output_loss: 0.4319 - quality_output_loss: 0.1225 - type_output_binary_crossentropy: 0.4319 - quality_output_root_mean_squared_error: 0.3501 - val_loss: 0.5487 - val_type_output_loss: 0.4371 - val_quality_output_loss: 0.1007 - val_type_output_binary_crossentropy: 0.4371 - val_quality_output_root_mean_squared_error: 0.3174\n",
      "Epoch 39/50\n",
      "382/382 [==============================] - 3s 8ms/step - loss: 0.5641 - type_output_loss: 0.4308 - quality_output_loss: 0.1222 - type_output_binary_crossentropy: 0.4308 - quality_output_root_mean_squared_error: 0.3496 - val_loss: 0.5487 - val_type_output_loss: 0.4369 - val_quality_output_loss: 0.1008 - val_type_output_binary_crossentropy: 0.4369 - val_quality_output_root_mean_squared_error: 0.3175\n",
      "Epoch 40/50\n",
      "382/382 [==============================] - 3s 8ms/step - loss: 0.5643 - type_output_loss: 0.4312 - quality_output_loss: 0.1221 - type_output_binary_crossentropy: 0.4312 - quality_output_root_mean_squared_error: 0.3494 - val_loss: 0.5476 - val_type_output_loss: 0.4357 - val_quality_output_loss: 0.1008 - val_type_output_binary_crossentropy: 0.4357 - val_quality_output_root_mean_squared_error: 0.3174\n"
     ]
    },
    {
     "name": "stdout",
     "output_type": "stream",
     "text": [
      "Epoch 41/50\n",
      "382/382 [==============================] - 3s 7ms/step - loss: 0.5641 - type_output_loss: 0.4310 - quality_output_loss: 0.1221 - type_output_binary_crossentropy: 0.4310 - quality_output_root_mean_squared_error: 0.3494 - val_loss: 0.5484 - val_type_output_loss: 0.4370 - val_quality_output_loss: 0.1002 - val_type_output_binary_crossentropy: 0.4370 - val_quality_output_root_mean_squared_error: 0.3166\n",
      "Epoch 42/50\n",
      "382/382 [==============================] - 3s 7ms/step - loss: 0.5637 - type_output_loss: 0.4305 - quality_output_loss: 0.1221 - type_output_binary_crossentropy: 0.4305 - quality_output_root_mean_squared_error: 0.3494 - val_loss: 0.5477 - val_type_output_loss: 0.4363 - val_quality_output_loss: 0.1003 - val_type_output_binary_crossentropy: 0.4363 - val_quality_output_root_mean_squared_error: 0.3168\n",
      "Epoch 43/50\n",
      "382/382 [==============================] - 3s 7ms/step - loss: 0.5632 - type_output_loss: 0.4301 - quality_output_loss: 0.1220 - type_output_binary_crossentropy: 0.4301 - quality_output_root_mean_squared_error: 0.3493 - val_loss: 0.5480 - val_type_output_loss: 0.4368 - val_quality_output_loss: 0.0999 - val_type_output_binary_crossentropy: 0.4368 - val_quality_output_root_mean_squared_error: 0.3161\n",
      "Epoch 44/50\n",
      "382/382 [==============================] - 3s 8ms/step - loss: 0.5629 - type_output_loss: 0.4298 - quality_output_loss: 0.1220 - type_output_binary_crossentropy: 0.4298 - quality_output_root_mean_squared_error: 0.3493 - val_loss: 0.5466 - val_type_output_loss: 0.4357 - val_quality_output_loss: 0.0997 - val_type_output_binary_crossentropy: 0.4357 - val_quality_output_root_mean_squared_error: 0.3157\n",
      "Epoch 45/50\n",
      "382/382 [==============================] - 3s 8ms/step - loss: 0.5626 - type_output_loss: 0.4294 - quality_output_loss: 0.1221 - type_output_binary_crossentropy: 0.4294 - quality_output_root_mean_squared_error: 0.3494 - val_loss: 0.5518 - val_type_output_loss: 0.4406 - val_quality_output_loss: 0.1004 - val_type_output_binary_crossentropy: 0.4406 - val_quality_output_root_mean_squared_error: 0.3168\n",
      "Epoch 46/50\n",
      "382/382 [==============================] - 3s 7ms/step - loss: 0.5628 - type_output_loss: 0.4299 - quality_output_loss: 0.1220 - type_output_binary_crossentropy: 0.4299 - quality_output_root_mean_squared_error: 0.3493 - val_loss: 0.5483 - val_type_output_loss: 0.4367 - val_quality_output_loss: 0.1002 - val_type_output_binary_crossentropy: 0.4367 - val_quality_output_root_mean_squared_error: 0.3166\n",
      "Epoch 47/50\n",
      "382/382 [==============================] - 3s 8ms/step - loss: 0.5624 - type_output_loss: 0.4291 - quality_output_loss: 0.1221 - type_output_binary_crossentropy: 0.4291 - quality_output_root_mean_squared_error: 0.3494 - val_loss: 0.5458 - val_type_output_loss: 0.4350 - val_quality_output_loss: 0.0996 - val_type_output_binary_crossentropy: 0.4350 - val_quality_output_root_mean_squared_error: 0.3156\n",
      "Epoch 48/50\n",
      "382/382 [==============================] - 3s 7ms/step - loss: 0.5622 - type_output_loss: 0.4289 - quality_output_loss: 0.1222 - type_output_binary_crossentropy: 0.4289 - quality_output_root_mean_squared_error: 0.3496 - val_loss: 0.5499 - val_type_output_loss: 0.4390 - val_quality_output_loss: 0.0996 - val_type_output_binary_crossentropy: 0.4390 - val_quality_output_root_mean_squared_error: 0.3156\n",
      "Epoch 49/50\n",
      "382/382 [==============================] - 3s 8ms/step - loss: 0.5623 - type_output_loss: 0.4287 - quality_output_loss: 0.1225 - type_output_binary_crossentropy: 0.4287 - quality_output_root_mean_squared_error: 0.3500 - val_loss: 0.5478 - val_type_output_loss: 0.4367 - val_quality_output_loss: 0.0997 - val_type_output_binary_crossentropy: 0.4367 - val_quality_output_root_mean_squared_error: 0.3158\n",
      "Epoch 50/50\n",
      "382/382 [==============================] - 3s 8ms/step - loss: 0.5620 - type_output_loss: 0.4286 - quality_output_loss: 0.1222 - type_output_binary_crossentropy: 0.4286 - quality_output_root_mean_squared_error: 0.3496 - val_loss: 0.5481 - val_type_output_loss: 0.4371 - val_quality_output_loss: 0.1002 - val_type_output_binary_crossentropy: 0.4371 - val_quality_output_root_mean_squared_error: 0.3165\n"
     ]
    }
   ],
   "source": [
    "# Fit model.\n",
    "history = multitask_model.fit(\n",
    "    X_train,\n",
    "    [Y_train['type'], Y_train['quality']],\n",
    "    epochs=50,\n",
    "    batch_size=32, \n",
    "    validation_data=(X_val, [Y_val['type'], Y_val['quality']])\n",
    ")\n"
   ]
  },
  {
   "cell_type": "code",
   "execution_count": 12,
   "id": "2c298bd6",
   "metadata": {},
   "outputs": [
    {
     "name": "stdout",
     "output_type": "stream",
     "text": [
      "68/68 [==============================] - 0s 5ms/step - loss: 0.5481 - type_output_loss: 0.4371 - quality_output_loss: 0.1002 - type_output_binary_crossentropy: 0.4371 - quality_output_root_mean_squared_error: 0.3165\n"
     ]
    }
   ],
   "source": [
    "# Save multitask model results.\n",
    "multitask_results_dict = multitask_model.evaluate(X_val, [Y_val['type'], Y_val['quality']], return_dict=True)\n"
   ]
  },
  {
   "cell_type": "markdown",
   "id": "a26c9348",
   "metadata": {},
   "source": [
    " "
   ]
  },
  {
   "cell_type": "code",
   "execution_count": 13,
   "id": "620bbbac",
   "metadata": {},
   "outputs": [
    {
     "data": {
      "text/html": [
       "<div>\n",
       "<style scoped>\n",
       "    .dataframe tbody tr th:only-of-type {\n",
       "        vertical-align: middle;\n",
       "    }\n",
       "\n",
       "    .dataframe tbody tr th {\n",
       "        vertical-align: top;\n",
       "    }\n",
       "\n",
       "    .dataframe thead th {\n",
       "        text-align: right;\n",
       "    }\n",
       "</style>\n",
       "<table border=\"1\" class=\"dataframe\">\n",
       "  <thead>\n",
       "    <tr style=\"text-align: right;\">\n",
       "      <th></th>\n",
       "      <th>RMSE</th>\n",
       "      <th>Binary Cross-Entropy</th>\n",
       "    </tr>\n",
       "  </thead>\n",
       "  <tbody>\n",
       "    <tr>\n",
       "      <th>Single Task Models</th>\n",
       "      <td>0.316009</td>\n",
       "      <td>0.442401</td>\n",
       "    </tr>\n",
       "    <tr>\n",
       "      <th>Multitask Model</th>\n",
       "      <td>0.316536</td>\n",
       "      <td>0.437126</td>\n",
       "    </tr>\n",
       "  </tbody>\n",
       "</table>\n",
       "</div>"
      ],
      "text/plain": [
       "                        RMSE  Binary Cross-Entropy\n",
       "Single Task Models  0.316009              0.442401\n",
       "Multitask Model     0.316536              0.437126"
      ]
     },
     "execution_count": 13,
     "metadata": {},
     "output_type": "execute_result"
    }
   ],
   "source": [
    "# Save results as a dataframe.\n",
    "df_val_results = pd.DataFrame([\n",
    "    [quality_results_dict['root_mean_squared_error'], type_results_dict['loss']],\n",
    "    [multitask_results_dict['quality_output_root_mean_squared_error'], multitask_results_dict['type_output_binary_crossentropy']]\n",
    "])\n",
    "df_val_results.columns = ['RMSE', 'Binary Cross-Entropy']\n",
    "df_val_results.index = ['Single Task Models', 'Multitask Model']\n",
    "\n",
    "# Display dataframe.\n",
    "df_val_results\n"
   ]
  },
  {
   "cell_type": "code",
   "execution_count": 14,
   "id": "0f4b21cd",
   "metadata": {},
   "outputs": [
    {
     "name": "stderr",
     "output_type": "stream",
     "text": [
      "2022-04-10 19:58:38.668264: I tensorflow/core/grappler/optimizers/custom_graph_optimizer_registry.cc:112] Plugin optimizer for device_type GPU is enabled.\n",
      "2022-04-10 19:58:38.733236: I tensorflow/core/grappler/optimizers/custom_graph_optimizer_registry.cc:112] Plugin optimizer for device_type GPU is enabled.\n",
      "2022-04-10 19:58:38.774488: I tensorflow/core/grappler/optimizers/custom_graph_optimizer_registry.cc:112] Plugin optimizer for device_type GPU is enabled.\n"
     ]
    }
   ],
   "source": [
    "# Make predictions on test set.\n",
    "type_pred_arrays = model_type.predict(X_test)\n",
    "type_preds = np.asarray([pred[0] for pred in type_pred_arrays])\n",
    "\n",
    "quality_pred_arrays = model_quality.predict(X_test)\n",
    "quality_preds = np.asarray([pred[0] for pred in quality_pred_arrays])\n",
    "\n",
    "multi_preds = multitask_model.predict(X_test)\n",
    "multitask_type_preds = np.asarray([pred[0] for pred in multi_preds[0]])\n",
    "multitask_quality_preds = np.asarray([pred[0] for pred in multi_preds[1]])\n",
    "\n",
    "# Store observed values for test set.\n",
    "type_obs = Y_test['type']\n",
    "quality_obs = Y_test['quality']\n",
    "\n",
    "# Store residuals.\n",
    "multitask_price_res = type_obs - multitask_type_preds\n",
    "\n",
    "quality_res = quality_obs - quality_preds\n",
    "multitask_quality_res = quality_obs - multitask_quality_preds\n"
   ]
  },
  {
   "cell_type": "code",
   "execution_count": 33,
   "id": "f3d18ae0",
   "metadata": {},
   "outputs": [
    {
     "data": {
      "image/png": "[encoded data removed]",
      "text/plain": [
       "<Figure size 432x288 with 1 Axes>"
      ]
     },
     "metadata": {
      "needs_background": "light"
     },
     "output_type": "display_data"
    },
    {
     "data": {
      "image/png": "[encoded data removed]",
      "text/plain": [
       "<Figure size 432x288 with 1 Axes>"
      ]
     },
     "metadata": {
      "needs_background": "light"
     },
     "output_type": "display_data"
    },
    {
     "data": {
      "image/png": "[encoded data removed]",
      "text/plain": [
       "<Figure size 432x288 with 1 Axes>"
      ]
     },
     "metadata": {
      "needs_background": "light"
     },
     "output_type": "display_data"
    },
    {
     "data": {
      "image/png": "[encoded data removed]",
      "text/plain": [
       "<Figure size 432x288 with 1 Axes>"
      ]
     },
     "metadata": {
      "needs_background": "light"
     },
     "output_type": "display_data"
    },
    {
     "name": "stdout",
     "output_type": "stream",
     "text": [
      "\n",
      "Quality Model MSE: 0.16665343088383774\n",
      "Multitask Model MSE: 0.16659926189459304\n",
      "\n",
      "\n",
      "Type Model Cross-Entropy: 0.44111710791123926\n",
      "Multitask Model Cross-Entropy: 0.43721100612709046\n",
      "\n"
     ]
    }
   ],
   "source": [
    "# Compare quality predictions for both models.\n",
    "\n",
    "# Plot predicrted vs observed quality.\n",
    "plt.scatter(quality_obs, quality_preds)\n",
    "plt.title('Observed Quality vs Quality Model Predictions')\n",
    "plt.show()\n",
    "\n",
    "plt.scatter(quality_obs, multitask_quality_preds)\n",
    "plt.title('Observed Quality vs Multitask Model Predictions')\n",
    "plt.show()\n",
    "\n",
    "# Plot residuals.\n",
    "plt.hist(quality_res)\n",
    "plt.title('Quality Model Residuals')\n",
    "plt.show()\n",
    "\n",
    "plt.hist(multitask_quality_res)\n",
    "plt.title('Multitask Model Residuals')\n",
    "plt.show()\n",
    "\n",
    "# Calculate and display mean squared error.\n",
    "mse_quality = mean_squared_error(quality_obs, quality_preds)\n",
    "mse_multitask = mean_squared_error(quality_obs, multitask_quality_preds)\n",
    "\n",
    "print()\n",
    "print(f'Quality Model MSE: {mse_quality}')\n",
    "print(f'Multitask Model MSE: {mse_multitask}')\n",
    "print()\n",
    "\n",
    "# Calculate and display log-loss.\n",
    "entropy_type = log_loss(type_obs, type_preds, eps=1e-7)\n",
    "entropy_multitask = log_loss(type_obs, multitask_type_preds)\n",
    "\n",
    "print()\n",
    "print(f'Type Model Cross-Entropy: {entropy_type}')\n",
    "print(f'Multitask Model Cross-Entropy: {entropy_multitask}')\n",
    "print()\n"
   ]
  },
  {
   "cell_type": "markdown",
   "id": "a150b3c1",
   "metadata": {},
   "source": [
    "\n",
    "\n",
    "There you have it! The results might night be mindblowing right now (the finished project required not only the use of multitask learning, but also some nested frozen networks), but this example does show that we can get better results using a multitask network as opposed to training two models separately. Not only does this allow models to generalize more easily, but it can also make deploying your models much simpler.\n"
   ]
  }
 ],
 "metadata": {
  "kernelspec": {
   "display_name": "Python [conda env:tf] *",
   "language": "python",
   "name": "conda-env-tf-py"
  },
  "language_info": {
   "codemirror_mode": {
    "name": "ipython",
    "version": 3
   },
   "file_extension": ".py",
   "mimetype": "text/x-python",
   "name": "python",
   "nbconvert_exporter": "python",
   "pygments_lexer": "ipython3",
   "version": "3.9.7"
  }
 },
 "nbformat": 4,
 "nbformat_minor": 5
}
